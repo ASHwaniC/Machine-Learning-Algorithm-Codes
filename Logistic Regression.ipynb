{
  "nbformat": 4,
  "nbformat_minor": 0,
  "metadata": {
    "colab": {
      "name": "Palpax Online Assessment.ipynb",
      "provenance": [],
      "authorship_tag": "ABX9TyM290PWuE2a9/4MLgpL50o0",
      "include_colab_link": true
    },
    "kernelspec": {
      "name": "python3",
      "display_name": "Python 3"
    }
  },
  "cells": [
    {
      "cell_type": "markdown",
      "metadata": {
        "id": "view-in-github",
        "colab_type": "text"
      },
      "source": [
        "<a href=\"https://colab.research.google.com/github/ASHwaniC/Machine-Learning-Algorithm-Codes-Linear-Regression/blob/main/Logistic%20Regression.ipynb\" target=\"_parent\"><img src=\"https://colab.research.google.com/assets/colab-badge.svg\" alt=\"Open In Colab\"/></a>"
      ]
    },
    {
      "cell_type": "markdown",
      "metadata": {
        "id": "0klMQ0DIS7tp"
      },
      "source": [
        "**Logistic Regression**\n",
        "\n",
        "Logistic regression is a statistical model that in its basic form uses a logistic function to model a binary dependent variable, although many more complex extensions exist. In regression analysis, logistic regression (or logit regression) is estimating the parameters of a logistic model (a form of binary regression"
      ]
    },
    {
      "cell_type": "code",
      "metadata": {
        "id": "JUvEICt8Jznx"
      },
      "source": [
        "class logisticRegression:\n",
        "\n",
        "  def __init__(self,lr=0.001,n_iters=1000):\n",
        "    self.lr = lr\n",
        "    self.n_iters = n_iters\n",
        "    self.weights = None\n",
        "    self.bias = None\n",
        "\n",
        "  def fit(self,X,y):\n",
        "    #init parameters\n",
        "    n_samples, n_features = X.shape\n",
        "    self.weights = np.zeros(n_features)\n",
        "    self.bias = 0\n",
        "\n",
        "    #gradient descent\n",
        "    for _ in range(self.n_iters):\n",
        "      linear_model = np.dot(X,self.weights) + self.bias\n",
        "      y_predicted = self._sigmoid(linear_model)\n",
        "\n",
        "      dw = (1/n_samples) * np.dot(X.T,(y_predicted-y))\n",
        "      db = (1/n_samples) * np.sum(y_predicted-y)\n",
        "\n",
        "      self.weights -= self.lr *dw\n",
        "      self.bias -= self.lr * db \n",
        "\n",
        "  def predict(self,X):\n",
        "    linear_model = np.dot(X,self.weights) + self.bias\n",
        "    y_predicted = self._sigmoid(linear_model)\n",
        "    y_predicted_cls = [1 if i>0.5 else 0 for i in y_predicted]\n",
        "    return y_predicted_cls\n",
        "  \n",
        "  def _sigmoid(self,x):\n",
        "    return(1/(1+np.exp(-x)))\n",
        "\n",
        "#Test Logistic regression in breast_cancer\n",
        "bc = datasets.load_breast_cancer()\n",
        "X, y = bc.data, bc.target\n",
        "\n",
        "X_train, X_test, y_train, y_test = train_test_split(X, y, test_size=0.2, random_state=1234)\n",
        "\n",
        "\n",
        "\n",
        "def accuracy(y_true,y_pred):\n",
        "  accuracy = np.sum(y_true == y_pred)/len(y_true)\n",
        "  return accuracy\n",
        "\n",
        "regressor = logisticRegression(lr=0.0001,n_iters=1000)\n",
        "regressor.fit(X_train, y_train)\n",
        "\n",
        "predictions = regressor.predict(X_test)\n",
        "\n",
        "print(\"Accuracy: \",accuracy(y_test, predictions))"
      ],
      "execution_count": null,
      "outputs": []
    }
  ]
}