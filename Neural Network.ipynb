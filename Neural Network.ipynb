{
  "nbformat": 4,
  "nbformat_minor": 0,
  "metadata": {
    "colab": {
      "name": "Palpax Online Assessment.ipynb",
      "provenance": [],
      "authorship_tag": "ABX9TyNhP/xNeZSudXk+BQ3ODM9g",
      "include_colab_link": true
    },
    "kernelspec": {
      "name": "python3",
      "display_name": "Python 3"
    }
  },
  "cells": [
    {
      "cell_type": "markdown",
      "metadata": {
        "id": "view-in-github",
        "colab_type": "text"
      },
      "source": [
        "<a href=\"https://colab.research.google.com/github/ASHwaniC/Machine-Learning-Algorithm-Codes/blob/main/Neural%20Network.ipynb\" target=\"_parent\"><img src=\"https://colab.research.google.com/assets/colab-badge.svg\" alt=\"Open In Colab\"/></a>"
      ]
    },
    {
      "cell_type": "markdown",
      "metadata": {
        "id": "0klMQ0DIS7tp"
      },
      "source": [
        "Neural Network\n",
        "\n",
        "A neural network is a series of algorithms that endeavors to recognize underlying relationships in a set of data through a process that mimics the way the human brain operates. In this sense, neural networks refer to systems of neurons, either organic or artificial in nature."
      ]
    },
    {
      "cell_type": "code",
      "metadata": {
        "id": "JUvEICt8Jznx"
      },
      "source": [
        "class NeuralNetwork():\n",
        "    \n",
        "    def __init__(self):\n",
        "        np.random.seed(1)\n",
        "        self.synaptic_weights = 2*np.random.random((3,1)) - 1\n",
        "    \n",
        "    def sigmoid(self,x):\n",
        "        return(1/(1+np.exp(-x)))\n",
        "    \n",
        "    def sigmoid_derivative(self,x):\n",
        "        return(x/(1+x))\n",
        "    \n",
        "    def train(self,training_inputs, training_outputs,training_iterations):\n",
        "        for itr in range(training_iterations):\n",
        "            \n",
        "            output = self.think(training_inputs)\n",
        "            error = training_outputs - output\n",
        "            adjustments = np.dot(training_inputs.T,error*self.sigmoid_derivative(output))\n",
        "            self.synaptic_weights += adjustments\n",
        "    \n",
        "    def think(self,inputs):\n",
        "        inputs = inputs.astype(float)\n",
        "        output = self.sigmoid(np.dot(inputs,self.synaptic_weights))\n",
        "        return output\n",
        "    \n",
        "    \n",
        "\n",
        "\n",
        "#In short, use this ' if name == \"main\" ' block to prevent (certain) code from being run when the module\n",
        "#is imported. Put simply, name is a variable defined for each script that defines whether the script is \n",
        "#being run as the main module or it is being run as an imported module.\n",
        "\n",
        "\n",
        "\n",
        "if(__name__ == \"__main__\"):\n",
        "    neural_network = NeuralNetwork()\n",
        "    \n",
        "    print(\"Rnadom synaptic weights: \")\n",
        "    print(neural_network.synaptic_weights)\n",
        "    \n",
        "    training_inputs = np.array([[0,0,1],\n",
        "                                [1,1,1],\n",
        "                                [1,0,1],\n",
        "                                [0,1,1]])\n",
        "    training_outputs = np.array([[0,1,1,0]]).T\n",
        "    \n",
        "    neural_network.train(training_inputs,training_outputs,10000)\n",
        "    \n",
        "    print(\"Synaptic weights after training: \")\n",
        "    print(neural_network.synaptic_weights)\n",
        "    \n",
        "    #A = str(input('Input 1: '))\n",
        "    #B = str(input('Input 2: '))\n",
        "    #C = str(input('Input 3: '))\n",
        "    A = 0\n",
        "    B = 1\n",
        "    C = 1\n",
        "    print(\"New situation: input data = \", A, B, C)\n",
        "    print(\"Output data: \")\n",
        "    print(neural_network.think(np.array([A,B,C])))"
      ],
      "execution_count": null,
      "outputs": []
    }
  ]
}